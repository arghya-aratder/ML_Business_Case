{
 "cells": [
  {
   "cell_type": "markdown",
   "id": "055edaad",
   "metadata": {},
   "source": [
    "# Exploratory Data Analysis"
   ]
  },
  {
   "cell_type": "markdown",
   "id": "e3d107a9",
   "metadata": {},
   "source": [
    "## structure & characteristics of the dataset"
   ]
  },
  {
   "cell_type": "markdown",
   "id": "4b0e0edd",
   "metadata": {},
   "source": [
    "## Separating the data"
   ]
  },
  {
   "cell_type": "markdown",
   "id": "3c9c2a17",
   "metadata": {},
   "source": [
    "## Analyzing and visualizing the data"
   ]
  },
  {
   "cell_type": "markdown",
   "id": "7f955ddc",
   "metadata": {},
   "source": [
    "## Insight"
   ]
  },
  {
   "cell_type": "markdown",
   "id": "ddc311c4",
   "metadata": {},
   "source": [
    "# Checking stationarity"
   ]
  },
  {
   "cell_type": "markdown",
   "id": "1c68eb0c",
   "metadata": {},
   "source": [
    "## Formatting the data for the model"
   ]
  },
  {
   "cell_type": "markdown",
   "id": "d224c302",
   "metadata": {},
   "source": [
    "## Dickey fuller test"
   ]
  },
  {
   "cell_type": "markdown",
   "id": "b07e359d",
   "metadata": {},
   "source": [
    "## Decomposition"
   ]
  },
  {
   "cell_type": "markdown",
   "id": "4d364c7d",
   "metadata": {},
   "source": [
    "## Differencing"
   ]
  },
  {
   "cell_type": "markdown",
   "id": "3289227e",
   "metadata": {},
   "source": [
    "# Creating model training and forecasting with ARIMA, SARIMAX"
   ]
  },
  {
   "cell_type": "markdown",
   "id": "096f76ee",
   "metadata": {},
   "source": [
    "## ACF and PACF plot"
   ]
  },
  {
   "cell_type": "markdown",
   "id": "e6f77d1b",
   "metadata": {},
   "source": [
    "## Training the model"
   ]
  },
  {
   "cell_type": "markdown",
   "id": "1d73e2d6",
   "metadata": {},
   "source": [
    "## Forecasting for different languages/regions"
   ]
  },
  {
   "cell_type": "markdown",
   "id": "d1a9f0ab",
   "metadata": {},
   "source": [
    "## Plotting the final results"
   ]
  },
  {
   "cell_type": "markdown",
   "id": "d6786719",
   "metadata": {},
   "source": [
    "# Forecasting with Facebook prophet"
   ]
  },
  {
   "cell_type": "markdown",
   "id": "b61064b2",
   "metadata": {},
   "source": [
    "# Creating a pipeline for working with multiple series"
   ]
  },
  {
   "cell_type": "code",
   "execution_count": null,
   "id": "b1bfec0a",
   "metadata": {},
   "outputs": [],
   "source": []
  }
 ],
 "metadata": {
  "kernelspec": {
   "display_name": "Python 3 (ipykernel)",
   "language": "python",
   "name": "python3"
  },
  "language_info": {
   "codemirror_mode": {
    "name": "ipython",
    "version": 3
   },
   "file_extension": ".py",
   "mimetype": "text/x-python",
   "name": "python",
   "nbconvert_exporter": "python",
   "pygments_lexer": "ipython3",
   "version": "3.9.13"
  },
  "toc": {
   "base_numbering": 1,
   "nav_menu": {},
   "number_sections": true,
   "sideBar": true,
   "skip_h1_title": false,
   "title_cell": "Table of Contents",
   "title_sidebar": "Contents",
   "toc_cell": false,
   "toc_position": {},
   "toc_section_display": true,
   "toc_window_display": false
  }
 },
 "nbformat": 4,
 "nbformat_minor": 5
}
